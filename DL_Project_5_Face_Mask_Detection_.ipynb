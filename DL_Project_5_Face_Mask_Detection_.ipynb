{
  "cells": [
    {
      "cell_type": "code",
      "execution_count": null,
      "metadata": {
        "colab": {
          "base_uri": "https://localhost:8080/"
        },
        "id": "mcv-3AQzmpdu",
        "outputId": "2181bd31-42ac-4c33-8f20-e3f9bff4e3e5"
      },
      "outputs": [
        {
          "output_type": "stream",
          "name": "stdout",
          "text": [
            "Requirement already satisfied: kaggle in /usr/local/lib/python3.10/dist-packages (1.5.16)\n",
            "Requirement already satisfied: six>=1.10 in /usr/local/lib/python3.10/dist-packages (from kaggle) (1.16.0)\n",
            "Requirement already satisfied: certifi in /usr/local/lib/python3.10/dist-packages (from kaggle) (2024.2.2)\n",
            "Requirement already satisfied: python-dateutil in /usr/local/lib/python3.10/dist-packages (from kaggle) (2.8.2)\n",
            "Requirement already satisfied: requests in /usr/local/lib/python3.10/dist-packages (from kaggle) (2.31.0)\n",
            "Requirement already satisfied: tqdm in /usr/local/lib/python3.10/dist-packages (from kaggle) (4.66.2)\n",
            "Requirement already satisfied: python-slugify in /usr/local/lib/python3.10/dist-packages (from kaggle) (8.0.4)\n",
            "Requirement already satisfied: urllib3 in /usr/local/lib/python3.10/dist-packages (from kaggle) (2.0.7)\n",
            "Requirement already satisfied: bleach in /usr/local/lib/python3.10/dist-packages (from kaggle) (6.1.0)\n",
            "Requirement already satisfied: webencodings in /usr/local/lib/python3.10/dist-packages (from bleach->kaggle) (0.5.1)\n",
            "Requirement already satisfied: text-unidecode>=1.3 in /usr/local/lib/python3.10/dist-packages (from python-slugify->kaggle) (1.3)\n",
            "Requirement already satisfied: charset-normalizer<4,>=2 in /usr/local/lib/python3.10/dist-packages (from requests->kaggle) (3.3.2)\n",
            "Requirement already satisfied: idna<4,>=2.5 in /usr/local/lib/python3.10/dist-packages (from requests->kaggle) (3.6)\n"
          ]
        }
      ],
      "source": [
        "!pip install kaggle"
      ]
    },
    {
      "cell_type": "code",
      "execution_count": null,
      "metadata": {
        "id": "NwL01cBAoNwE"
      },
      "outputs": [],
      "source": [
        "!mkdir -p ~/.kaggle\n",
        "!cp kaggle.json ~/.kaggle/\n",
        "!chmod 600 ~/.kaggle/kaggle.json"
      ]
    },
    {
      "cell_type": "code",
      "execution_count": null,
      "metadata": {
        "colab": {
          "base_uri": "https://localhost:8080/"
        },
        "id": "dWHfbLzrolgS",
        "outputId": "b1130670-eb9d-4f81-d91d-51d557309b77"
      },
      "outputs": [
        {
          "output_type": "stream",
          "name": "stdout",
          "text": [
            "Downloading face-mask-dataset.zip to /content\n",
            " 96% 156M/163M [00:00<00:00, 211MB/s]\n",
            "100% 163M/163M [00:00<00:00, 212MB/s]\n"
          ]
        }
      ],
      "source": [
        "!kaggle datasets download -d omkargurav/face-mask-dataset"
      ]
    },
    {
      "cell_type": "code",
      "execution_count": null,
      "metadata": {
        "colab": {
          "base_uri": "https://localhost:8080/"
        },
        "id": "-wlL3Q1mpJjk",
        "outputId": "1a2ba6f2-6391-4f10-9f44-aa3fa4a45c6e"
      },
      "outputs": [
        {
          "output_type": "stream",
          "name": "stdout",
          "text": [
            "Data set is extracted\n"
          ]
        }
      ],
      "source": [
        "from zipfile import ZipFile\n",
        "data='/content/face-mask-dataset.zip'\n",
        "with ZipFile(data,'r') as zip:\n",
        "  zip.extractall()\n",
        "  print(\"Data set is extracted\")"
      ]
    },
    {
      "cell_type": "code",
      "execution_count": null,
      "metadata": {
        "colab": {
          "base_uri": "https://localhost:8080/"
        },
        "id": "R5tMHSnksP0Z",
        "outputId": "ae4bc0fa-9c1c-4904-d61a-33e3682d6b24"
      },
      "outputs": [
        {
          "output_type": "stream",
          "name": "stdout",
          "text": [
            "data  face-mask-dataset.zip  kaggle.json  sample_data\n"
          ]
        }
      ],
      "source": [
        "!ls"
      ]
    },
    {
      "cell_type": "code",
      "execution_count": null,
      "metadata": {
        "id": "Dy0GMybOsmVj"
      },
      "outputs": [],
      "source": [
        "import os\n",
        "import numpy as np\n",
        "import matplotlib.pyplot as plt\n",
        "import matplotlib.image as mpimg\n",
        "import cv2\n",
        "from google.colab.patches import cv2_imshow\n",
        "from PIL import Image\n",
        "from sklearn.model_selection import train_test_split\n"
      ]
    },
    {
      "cell_type": "code",
      "execution_count": null,
      "metadata": {
        "colab": {
          "base_uri": "https://localhost:8080/"
        },
        "id": "tJ8WyErkttFM",
        "outputId": "8190d399-a00d-4af5-f4b2-5d3e80e9515b"
      },
      "outputs": [
        {
          "output_type": "stream",
          "name": "stdout",
          "text": [
            "['with_mask_3339.jpg', 'with_mask_3373.jpg', 'with_mask_482.jpg', 'with_mask_262.jpg', 'with_mask_1909.jpg']\n",
            "['with_mask_3281.jpg', 'with_mask_530.jpg', 'with_mask_2357.jpg', 'with_mask_3138.jpg', 'with_mask_3670.jpg']\n"
          ]
        }
      ],
      "source": [
        "with_mask_files=os.listdir(\"/content/data/with_mask\")\n",
        "print(with_mask_files[0:5])\n",
        "print(with_mask_files[-5:])\n"
      ]
    },
    {
      "cell_type": "code",
      "execution_count": null,
      "metadata": {
        "colab": {
          "base_uri": "https://localhost:8080/"
        },
        "id": "5rnC5ghSuNKb",
        "outputId": "d2d4dd8a-4f6a-4d26-f693-746474a2f7dc"
      },
      "outputs": [
        {
          "output_type": "stream",
          "name": "stdout",
          "text": [
            "['without_mask_765.jpg', 'without_mask_1608.jpg', 'without_mask_1885.jpg', 'without_mask_2723.jpg', 'without_mask_3205.jpg']\n",
            "['without_mask_213.jpg', 'without_mask_1676.jpg', 'without_mask_680.jpg', 'without_mask_2932.jpg', 'without_mask_2871.jpg']\n"
          ]
        }
      ],
      "source": [
        "without_mask_files=os.listdir(\"/content/data/without_mask\")\n",
        "print(without_mask_files[0:5])\n",
        "print(without_mask_files[-5:])"
      ]
    },
    {
      "cell_type": "code",
      "execution_count": null,
      "metadata": {
        "colab": {
          "base_uri": "https://localhost:8080/"
        },
        "id": "ug-igttrul_K",
        "outputId": "fe17e9ae-7931-423f-ee6e-359685f51cfd"
      },
      "outputs": [
        {
          "output_type": "stream",
          "name": "stdout",
          "text": [
            "No of with mask images:  3725\n",
            "No of without mask images:  3828\n"
          ]
        }
      ],
      "source": [
        "print(\"No of with mask images: \",len(with_mask_files))\n",
        "print(\"No of without mask images: \",len(without_mask_files))\n"
      ]
    },
    {
      "cell_type": "markdown",
      "metadata": {
        "id": "f4qvnUNWwVdf"
      },
      "source": [
        "creating a labels for the two class of images\n",
        "\n",
        "with mask ->1\n",
        "\n",
        "\n",
        "without mask ->0"
      ]
    },
    {
      "cell_type": "code",
      "execution_count": null,
      "metadata": {
        "id": "FaAa7tYbvL1w"
      },
      "outputs": [],
      "source": [
        "with_mask_label=[1]*3725\n",
        "without_mask_label=[0]*3828\n"
      ]
    },
    {
      "cell_type": "code",
      "execution_count": null,
      "metadata": {
        "colab": {
          "base_uri": "https://localhost:8080/"
        },
        "id": "vcd_fHqMzK1q",
        "outputId": "e3dba80a-985e-45d4-b35e-f0d3bd8ea9dd"
      },
      "outputs": [
        {
          "output_type": "stream",
          "name": "stdout",
          "text": [
            "[1, 1, 1, 1, 1]\n",
            "[0, 0, 0, 0, 0]\n"
          ]
        }
      ],
      "source": [
        "print(with_mask_label[0:5])\n",
        "print(without_mask_label[0:5])"
      ]
    },
    {
      "cell_type": "code",
      "execution_count": null,
      "metadata": {
        "colab": {
          "base_uri": "https://localhost:8080/"
        },
        "id": "1py4HddYzUDO",
        "outputId": "24bbc31f-2ea3-4bca-aa7c-e9241640a150"
      },
      "outputs": [
        {
          "output_type": "stream",
          "name": "stdout",
          "text": [
            "3725\n",
            "3828\n"
          ]
        }
      ],
      "source": [
        "print(len(with_mask_label))\n",
        "print(len(without_mask_label))"
      ]
    },
    {
      "cell_type": "code",
      "execution_count": null,
      "metadata": {
        "colab": {
          "base_uri": "https://localhost:8080/"
        },
        "id": "leX8mgEEznAg",
        "outputId": "495c3d10-77a5-4552-d8fb-4e4f4d51e4b1"
      },
      "outputs": [
        {
          "output_type": "stream",
          "name": "stdout",
          "text": [
            "7553\n",
            "[1, 1, 1, 1, 1]\n",
            "[0, 0, 0, 0, 0]\n"
          ]
        }
      ],
      "source": [
        "labels=with_mask_label+without_mask_label\n",
        "print(len(labels))\n",
        "print(labels[0:5])\n",
        "print(labels[-5:])"
      ]
    },
    {
      "cell_type": "markdown",
      "metadata": {
        "id": "_-Fe7wgb0ajC"
      },
      "source": [
        "Displaying with mask images\n",
        "\n"
      ]
    },
    {
      "cell_type": "code",
      "execution_count": null,
      "metadata": {
        "id": "H7kU1Qon0K7P"
      },
      "outputs": [],
      "source": [
        "img=mpimg.imread(\"/content/data/with_mask/with_mask_2660.jpg\")\n",
        "imgplot=plt.imshow(img)\n",
        "plt.show()"
      ]
    },
    {
      "cell_type": "code",
      "execution_count": null,
      "metadata": {
        "id": "Mur4R4Bp1CA7"
      },
      "outputs": [],
      "source": [
        "img=mpimg.imread(\"/content/data/without_mask/without_mask_1926.jpg\")\n",
        "imgplot=plt.imshow(img)\n",
        "plt.show()"
      ]
    },
    {
      "cell_type": "markdown",
      "metadata": {
        "id": "2kBsezmI2AQ1"
      },
      "source": [
        "1) Image Processing\n",
        "\n",
        "2) Convert the images to numpy array"
      ]
    },
    {
      "cell_type": "code",
      "execution_count": null,
      "metadata": {
        "colab": {
          "base_uri": "https://localhost:8080/"
        },
        "id": "xQam8ydM2F-j",
        "outputId": "807a369b-4fe3-43a6-b44a-0e0a8d33b725"
      },
      "outputs": [
        {
          "output_type": "stream",
          "name": "stderr",
          "text": [
            "/usr/local/lib/python3.10/dist-packages/PIL/Image.py:996: UserWarning: Palette images with Transparency expressed in bytes should be converted to RGBA images\n",
            "  warnings.warn(\n"
          ]
        }
      ],
      "source": [
        "# convert images to a numpy array\n",
        "with_mask_path='/content/data/with_mask/'\n",
        "\n",
        "data=[]\n",
        "for img_file in with_mask_files:\n",
        "  image=Image.open(with_mask_path+img_file)\n",
        "  image=image.resize((128,128))\n",
        "  image=image.convert('RGB')\n",
        "  image=np.array(image)\n",
        "  data.append(image)\n",
        "\n",
        "\n",
        "# convert images to a numpy array\n",
        "without_mask_path='/content/data/without_mask/'\n",
        "\n",
        "\n",
        "for img_file in without_mask_files:\n",
        "  image=Image.open(without_mask_path+img_file)\n",
        "  image=image.resize((128,128))\n",
        "  image=image.convert('RGB')\n",
        "  image=np.array(image)\n",
        "  data.append(image)\n",
        "\n"
      ]
    },
    {
      "cell_type": "code",
      "execution_count": null,
      "metadata": {
        "colab": {
          "base_uri": "https://localhost:8080/"
        },
        "id": "QjdTxWkv5tHy",
        "outputId": "e052c0d8-a297-444c-a504-ca21e87b3325"
      },
      "outputs": [
        {
          "output_type": "execute_result",
          "data": {
            "text/plain": [
              "list"
            ]
          },
          "metadata": {},
          "execution_count": 17
        }
      ],
      "source": [
        "type(data)"
      ]
    },
    {
      "cell_type": "code",
      "execution_count": null,
      "metadata": {
        "colab": {
          "base_uri": "https://localhost:8080/"
        },
        "id": "A-DqixrL54C7",
        "outputId": "bf1df1e6-c4ec-40c8-db7f-1f8694b55a09"
      },
      "outputs": [
        {
          "output_type": "execute_result",
          "data": {
            "text/plain": [
              "7553"
            ]
          },
          "metadata": {},
          "execution_count": 18
        }
      ],
      "source": [
        "len(data)"
      ]
    },
    {
      "cell_type": "code",
      "execution_count": null,
      "metadata": {
        "colab": {
          "base_uri": "https://localhost:8080/"
        },
        "id": "rigVH83b56BL",
        "outputId": "ce0f3219-f920-44c4-b336-4112be1780a3"
      },
      "outputs": [
        {
          "output_type": "stream",
          "name": "stdout",
          "text": [
            "[[[255 255 255]\n",
            "  [255 255 255]\n",
            "  [255 255 255]\n",
            "  ...\n",
            "  [255 255 255]\n",
            "  [255 255 255]\n",
            "  [255 255 255]]\n",
            "\n",
            " [[255 255 255]\n",
            "  [255 255 255]\n",
            "  [255 255 255]\n",
            "  ...\n",
            "  [255 255 255]\n",
            "  [255 255 255]\n",
            "  [255 255 255]]\n",
            "\n",
            " [[255 255 255]\n",
            "  [255 255 255]\n",
            "  [255 255 255]\n",
            "  ...\n",
            "  [255 255 255]\n",
            "  [255 255 255]\n",
            "  [255 255 255]]\n",
            "\n",
            " ...\n",
            "\n",
            " [[255 255 255]\n",
            "  [255 255 255]\n",
            "  [255 255 255]\n",
            "  ...\n",
            "  [255 255 255]\n",
            "  [255 255 255]\n",
            "  [255 255 255]]\n",
            "\n",
            " [[255 255 255]\n",
            "  [255 255 255]\n",
            "  [255 255 255]\n",
            "  ...\n",
            "  [255 255 255]\n",
            "  [255 255 255]\n",
            "  [255 255 255]]\n",
            "\n",
            " [[255 255 255]\n",
            "  [255 255 255]\n",
            "  [255 255 255]\n",
            "  ...\n",
            "  [255 255 255]\n",
            "  [255 255 255]\n",
            "  [255 255 255]]]\n"
          ]
        }
      ],
      "source": [
        "print(data[0])"
      ]
    },
    {
      "cell_type": "code",
      "execution_count": null,
      "metadata": {
        "colab": {
          "base_uri": "https://localhost:8080/"
        },
        "id": "AKzxtg0k59Ej",
        "outputId": "2d2ea78d-12ee-40cc-c879-ea907c814075"
      },
      "outputs": [
        {
          "output_type": "execute_result",
          "data": {
            "text/plain": [
              "numpy.ndarray"
            ]
          },
          "metadata": {},
          "execution_count": 20
        }
      ],
      "source": [
        "type(data[0])"
      ]
    },
    {
      "cell_type": "code",
      "execution_count": null,
      "metadata": {
        "colab": {
          "base_uri": "https://localhost:8080/"
        },
        "id": "B3sZ0C4U6S8T",
        "outputId": "ff26366a-181f-44d5-d4b1-3105b431e141"
      },
      "outputs": [
        {
          "output_type": "execute_result",
          "data": {
            "text/plain": [
              "(128, 128, 3)"
            ]
          },
          "metadata": {},
          "execution_count": 21
        }
      ],
      "source": [
        "data[0].shape"
      ]
    },
    {
      "cell_type": "code",
      "execution_count": null,
      "metadata": {
        "id": "v_18s7Ob6Vp7"
      },
      "outputs": [],
      "source": [
        "# converting image list and label list to numpy arrays\n",
        "x=np.array(data)\n",
        "y=np.array(labels)"
      ]
    },
    {
      "cell_type": "code",
      "execution_count": null,
      "metadata": {
        "colab": {
          "base_uri": "https://localhost:8080/"
        },
        "id": "wrpd0-5U619T",
        "outputId": "0781190b-2804-4db9-8208-cd2be638454b"
      },
      "outputs": [
        {
          "output_type": "execute_result",
          "data": {
            "text/plain": [
              "numpy.ndarray"
            ]
          },
          "metadata": {},
          "execution_count": 23
        }
      ],
      "source": [
        "type(x)\n"
      ]
    },
    {
      "cell_type": "code",
      "execution_count": null,
      "metadata": {
        "colab": {
          "base_uri": "https://localhost:8080/"
        },
        "id": "X1DuS_my652r",
        "outputId": "499b7cfc-2b00-41fc-abb3-c22c4aa24435"
      },
      "outputs": [
        {
          "output_type": "execute_result",
          "data": {
            "text/plain": [
              "numpy.ndarray"
            ]
          },
          "metadata": {},
          "execution_count": 24
        }
      ],
      "source": [
        "type(y)"
      ]
    },
    {
      "cell_type": "code",
      "execution_count": null,
      "metadata": {
        "colab": {
          "base_uri": "https://localhost:8080/"
        },
        "id": "v-BYqycX69gD",
        "outputId": "d3219be3-d8d5-4337-ed9a-58f9a9ad5a47"
      },
      "outputs": [
        {
          "output_type": "stream",
          "name": "stdout",
          "text": [
            "(7553, 128, 128, 3)\n"
          ]
        }
      ],
      "source": [
        "print(x.shape)"
      ]
    },
    {
      "cell_type": "code",
      "execution_count": null,
      "metadata": {
        "colab": {
          "base_uri": "https://localhost:8080/"
        },
        "id": "bp-asYyd7BIL",
        "outputId": "2b57df5a-aedb-4135-977a-dd62db8411b6"
      },
      "outputs": [
        {
          "output_type": "stream",
          "name": "stdout",
          "text": [
            "(7553,)\n"
          ]
        }
      ],
      "source": [
        "print(y.shape)"
      ]
    },
    {
      "cell_type": "markdown",
      "metadata": {
        "id": "fTAg4rbJcQ7i"
      },
      "source": [
        "Train test split"
      ]
    },
    {
      "cell_type": "code",
      "execution_count": null,
      "metadata": {
        "id": "wgowaShv7Ctj"
      },
      "outputs": [],
      "source": [
        "x_train,x_test,y_train,y_test=train_test_split(x,y,test_size=0.2,random_state=2)"
      ]
    },
    {
      "cell_type": "code",
      "execution_count": null,
      "metadata": {
        "colab": {
          "base_uri": "https://localhost:8080/"
        },
        "id": "m-CtZLRSckxp",
        "outputId": "233ed9e8-31e1-434b-c122-a86746803747"
      },
      "outputs": [
        {
          "output_type": "stream",
          "name": "stdout",
          "text": [
            "(7553, 128, 128, 3) (6042, 128, 128, 3) (1511, 128, 128, 3)\n"
          ]
        }
      ],
      "source": [
        "print(x.shape,x_train.shape,x_test.shape)"
      ]
    },
    {
      "cell_type": "code",
      "execution_count": null,
      "metadata": {
        "id": "lhoqtoMxcq7Z"
      },
      "outputs": [],
      "source": [
        "# scaling the data\n",
        "\n",
        "x_train_scaled=x_train/255\n",
        "x_test_scaled=x_test/255"
      ]
    },
    {
      "cell_type": "code",
      "execution_count": null,
      "metadata": {
        "colab": {
          "base_uri": "https://localhost:8080/"
        },
        "id": "-oG00OxmdkBZ",
        "outputId": "58150f06-ee9d-49f1-b3d8-dbf78674dee4"
      },
      "outputs": [
        {
          "output_type": "stream",
          "name": "stdout",
          "text": [
            "[[[ 99 103 112]\n",
            "  [ 98 102 111]\n",
            "  [ 98 102 111]\n",
            "  ...\n",
            "  [143 146 155]\n",
            "  [146 149 157]\n",
            "  [148 151 158]]\n",
            "\n",
            " [[ 97 101 110]\n",
            "  [ 97 101 110]\n",
            "  [ 97 101 110]\n",
            "  ...\n",
            "  [144 147 156]\n",
            "  [146 149 157]\n",
            "  [147 150 157]]\n",
            "\n",
            " [[ 98 102 111]\n",
            "  [ 99 103 112]\n",
            "  [ 99 103 112]\n",
            "  ...\n",
            "  [146 149 158]\n",
            "  [146 149 157]\n",
            "  [145 148 155]]\n",
            "\n",
            " ...\n",
            "\n",
            " [[ 14  12  13]\n",
            "  [ 14  12  13]\n",
            "  [ 12  10  11]\n",
            "  ...\n",
            "  [ 41  30  28]\n",
            "  [ 42  31  30]\n",
            "  [ 42  30  30]]\n",
            "\n",
            " [[ 14  12  13]\n",
            "  [ 13  11  12]\n",
            "  [ 13  11  12]\n",
            "  ...\n",
            "  [ 40  29  27]\n",
            "  [ 41  29  28]\n",
            "  [ 40  28  28]]\n",
            "\n",
            " [[ 15  13  14]\n",
            "  [ 15  13  14]\n",
            "  [ 13  11  12]\n",
            "  ...\n",
            "  [ 40  28  28]\n",
            "  [ 41  29  29]\n",
            "  [ 40  28  28]]]\n"
          ]
        }
      ],
      "source": [
        "print(x_train[0])"
      ]
    },
    {
      "cell_type": "code",
      "execution_count": null,
      "metadata": {
        "colab": {
          "base_uri": "https://localhost:8080/"
        },
        "id": "DQFeVh4Ydogy",
        "outputId": "095d4687-edce-4e94-e11b-2aa335fd3946"
      },
      "outputs": [
        {
          "output_type": "execute_result",
          "data": {
            "text/plain": [
              "array([[[0.38823529, 0.40392157, 0.43921569],\n",
              "        [0.38431373, 0.4       , 0.43529412],\n",
              "        [0.38431373, 0.4       , 0.43529412],\n",
              "        ...,\n",
              "        [0.56078431, 0.57254902, 0.60784314],\n",
              "        [0.57254902, 0.58431373, 0.61568627],\n",
              "        [0.58039216, 0.59215686, 0.61960784]],\n",
              "\n",
              "       [[0.38039216, 0.39607843, 0.43137255],\n",
              "        [0.38039216, 0.39607843, 0.43137255],\n",
              "        [0.38039216, 0.39607843, 0.43137255],\n",
              "        ...,\n",
              "        [0.56470588, 0.57647059, 0.61176471],\n",
              "        [0.57254902, 0.58431373, 0.61568627],\n",
              "        [0.57647059, 0.58823529, 0.61568627]],\n",
              "\n",
              "       [[0.38431373, 0.4       , 0.43529412],\n",
              "        [0.38823529, 0.40392157, 0.43921569],\n",
              "        [0.38823529, 0.40392157, 0.43921569],\n",
              "        ...,\n",
              "        [0.57254902, 0.58431373, 0.61960784],\n",
              "        [0.57254902, 0.58431373, 0.61568627],\n",
              "        [0.56862745, 0.58039216, 0.60784314]],\n",
              "\n",
              "       ...,\n",
              "\n",
              "       [[0.05490196, 0.04705882, 0.05098039],\n",
              "        [0.05490196, 0.04705882, 0.05098039],\n",
              "        [0.04705882, 0.03921569, 0.04313725],\n",
              "        ...,\n",
              "        [0.16078431, 0.11764706, 0.10980392],\n",
              "        [0.16470588, 0.12156863, 0.11764706],\n",
              "        [0.16470588, 0.11764706, 0.11764706]],\n",
              "\n",
              "       [[0.05490196, 0.04705882, 0.05098039],\n",
              "        [0.05098039, 0.04313725, 0.04705882],\n",
              "        [0.05098039, 0.04313725, 0.04705882],\n",
              "        ...,\n",
              "        [0.15686275, 0.11372549, 0.10588235],\n",
              "        [0.16078431, 0.11372549, 0.10980392],\n",
              "        [0.15686275, 0.10980392, 0.10980392]],\n",
              "\n",
              "       [[0.05882353, 0.05098039, 0.05490196],\n",
              "        [0.05882353, 0.05098039, 0.05490196],\n",
              "        [0.05098039, 0.04313725, 0.04705882],\n",
              "        ...,\n",
              "        [0.15686275, 0.10980392, 0.10980392],\n",
              "        [0.16078431, 0.11372549, 0.11372549],\n",
              "        [0.15686275, 0.10980392, 0.10980392]]])"
            ]
          },
          "metadata": {},
          "execution_count": 31
        }
      ],
      "source": [
        "x_train_scaled[0]\n"
      ]
    },
    {
      "cell_type": "markdown",
      "metadata": {
        "id": "Kimxzf5DeIEB"
      },
      "source": [
        "Building a Convolutional Neural Networks (CNN)"
      ]
    },
    {
      "cell_type": "code",
      "execution_count": null,
      "metadata": {
        "id": "70orYHh-d1mR"
      },
      "outputs": [],
      "source": [
        "import tensorflow as tf\n",
        "from tensorflow import keras"
      ]
    },
    {
      "cell_type": "code",
      "execution_count": null,
      "metadata": {
        "id": "5kUsbV3Peh9B"
      },
      "outputs": [],
      "source": [
        "num_of_classes=2\n",
        "model=keras.Sequential()\n",
        "model.add(keras.layers.Conv2D(12,kernel_size=(3,3),activation='relu',input_shape=(128,128,3)))\n",
        "model.add(keras.layers.MaxPooling2D(pool_size=(2,2)))\n",
        "\n",
        "\n",
        "model.add(keras.layers.Conv2D(64,kernel_size=(3,3),activation='relu'))\n",
        "model.add(keras.layers.MaxPooling2D(pool_size=(2,2)))\n",
        "\n",
        "\n",
        "model.add(keras.layers.Flatten())\n",
        "model.add(keras.layers.Dense(128,activation='relu'))\n",
        "model.add(keras.layers.Dropout(0.5))\n",
        "\n",
        "model.add(keras.layers.Dense(num_of_classes,activation='sigmoid'))"
      ]
    },
    {
      "cell_type": "code",
      "execution_count": null,
      "metadata": {
        "id": "9ENIPVuXgeEf"
      },
      "outputs": [],
      "source": [
        "# compile the neural network\n",
        "\n",
        "model.compile(optimizer='adam',loss='sparse_categorical_crossentropy',\n",
        "              metrics=['acc'])"
      ]
    },
    {
      "cell_type": "code",
      "execution_count": null,
      "metadata": {
        "colab": {
          "base_uri": "https://localhost:8080/"
        },
        "id": "QTPyu_fQ3GVy",
        "outputId": "408824e2-ea3a-48c4-8ba4-1a2bdc0f5280"
      },
      "outputs": [
        {
          "output_type": "stream",
          "name": "stdout",
          "text": [
            "Epoch 1/5\n",
            "170/170 [==============================] - 9s 21ms/step - loss: 0.4376 - acc: 0.8335 - val_loss: 0.2396 - val_acc: 0.9025\n",
            "Epoch 2/5\n",
            "170/170 [==============================] - 2s 13ms/step - loss: 0.2370 - acc: 0.9023 - val_loss: 0.2213 - val_acc: 0.8975\n",
            "Epoch 3/5\n",
            "170/170 [==============================] - 2s 13ms/step - loss: 0.1882 - acc: 0.9224 - val_loss: 0.2308 - val_acc: 0.9091\n",
            "Epoch 4/5\n",
            "170/170 [==============================] - 2s 13ms/step - loss: 0.1500 - acc: 0.9435 - val_loss: 0.1795 - val_acc: 0.9322\n",
            "Epoch 5/5\n",
            "170/170 [==============================] - 2s 13ms/step - loss: 0.1243 - acc: 0.9520 - val_loss: 0.1993 - val_acc: 0.9256\n"
          ]
        }
      ],
      "source": [
        "# traning the neural network\n",
        "\n",
        "history=model.fit(x_train_scaled,y_train,validation_split=0.1,epochs=5)"
      ]
    },
    {
      "cell_type": "markdown",
      "metadata": {
        "id": "N896gBvc4YPC"
      },
      "source": [
        "Model Evaluation"
      ]
    },
    {
      "cell_type": "code",
      "execution_count": null,
      "metadata": {
        "colab": {
          "base_uri": "https://localhost:8080/"
        },
        "id": "Lq310zqn3fhy",
        "outputId": "a44a102f-5740-4139-989d-759e0033ef80"
      },
      "outputs": [
        {
          "output_type": "stream",
          "name": "stdout",
          "text": [
            "48/48 [==============================] - 0s 9ms/step - loss: 0.2088 - acc: 0.9298\n",
            "Test Accuracy 0.929847776889801\n"
          ]
        }
      ],
      "source": [
        "loss,accuracy=model.evaluate(x_test_scaled,y_test)\n",
        "print(\"Test Accuracy\",accuracy)"
      ]
    },
    {
      "cell_type": "code",
      "execution_count": null,
      "metadata": {
        "colab": {
          "base_uri": "https://localhost:8080/",
          "height": 845
        },
        "id": "7idpO-yI415Z",
        "outputId": "5beaa07f-b18f-486a-b460-28919ee47291"
      },
      "outputs": [
        {
          "output_type": "display_data",
          "data": {
            "text/plain": [
              "<Figure size 640x480 with 1 Axes>"
            ],
            "image/png": "[encoded data removed]"
          },
          "metadata": {}
        },
        {
          "output_type": "display_data",
          "data": {
            "text/plain": [
              "<Figure size 640x480 with 1 Axes>"
            ],
            "image/png": "[encoded data removed]"
          },
          "metadata": {}
        }
      ],
      "source": [
        "h=history\n",
        "\n",
        "# plot the loss value\n",
        "\n",
        "plt.plot(h.history['loss'],label='train loss')\n",
        "\n",
        "plt.plot(h.history['val_loss'],label='validation loss')\n",
        "\n",
        "plt.legend()\n",
        "plt.show()\n",
        "\n",
        "# plot the Accuracy value\n",
        "\n",
        "plt.plot(h.history['acc'],label='train aqccuracy')\n",
        "\n",
        "plt.plot(h.history['val_acc'],label='validation accuracy')\n",
        "\n",
        "plt.legend()\n",
        "plt.show()\n",
        "\n"
      ]
    },
    {
      "cell_type": "markdown",
      "metadata": {
        "id": "mT4B02wq7Q0f"
      },
      "source": [
        "Predictive system"
      ]
    },
    {
      "cell_type": "code",
      "execution_count": null,
      "metadata": {
        "colab": {
          "base_uri": "https://localhost:8080/",
          "height": 252
        },
        "id": "EWdWlUNg53eZ",
        "outputId": "54b18351-f765-47c9-dbde-0226ae26c7f3"
      },
      "outputs": [
        {
          "name": "stdout",
          "output_type": "stream",
          "text": [
            "path of the image to be predicted/content/download.jfif\n"
          ]
        },
        {
          "output_type": "display_data",
          "data": {
            "text/plain": [
              "<PIL.Image.Image image mode=RGB size=270x148>"
            ],
            "image/png": "[encoded data removed]"
          },
          "metadata": {}
        },
        {
          "output_type": "stream",
          "name": "stdout",
          "text": [
            "1/1 [==============================] - 0s 22ms/step\n",
            "[[0.56166524 0.45653552]]\n",
            "0\n",
            "The person in the image is wearning a mask\n"
          ]
        }
      ],
      "source": [
        "input_image_path=input(\"path of the image to be predicted\")\n",
        "input_image=cv2.imread(input_image_path)\n",
        "\n",
        "cv2_imshow(input_image)\n",
        "\n",
        "input_image_resized=cv2.resize(input_image,(128,128))\n",
        "input_image_scaled=input_image_resized/255\n",
        "input_image_reshaped=np.reshape(input_image_scaled,[1,128,128,3])\n",
        "input_prediction=model.predict(input_image_reshaped)\n",
        "\n",
        "print(input_prediction)\n",
        "\n",
        "input_pred_label=np.argmax(input_prediction)\n",
        "\n",
        "print(input_pred_label)\n",
        "\n",
        "if input_pred_label==0:\n",
        "  print(\"The person in the image is wearning a mask\")\n",
        "\n",
        "else:\n",
        "  print(\"The person in the image is not wearning a mask\")\n"
      ]
    },
    {
      "cell_type": "code",
      "execution_count": null,
      "metadata": {
        "id": "czZ11rxV-ceo"
      },
      "outputs": [],
      "source": []
    }
  ],
  "metadata": {
    "accelerator": "GPU",
    "colab": {
      "gpuType": "T4",
      "provenance": []
    },
    "kernelspec": {
      "display_name": "Python 3",
      "name": "python3"
    },
    "language_info": {
      "name": "python"
    }
  },
  "nbformat": 4,
  "nbformat_minor": 0
}